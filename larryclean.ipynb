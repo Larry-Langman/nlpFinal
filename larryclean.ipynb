{
 "metadata": {
  "language_info": {
   "codemirror_mode": {
    "name": "ipython",
    "version": 3
   },
   "file_extension": ".py",
   "mimetype": "text/x-python",
   "name": "python",
   "nbconvert_exporter": "python",
   "pygments_lexer": "ipython3",
   "version": "3.9.0"
  },
  "orig_nbformat": 2,
  "kernelspec": {
   "name": "python390jvsc74a57bd089bc0f9ad37bcc647357b22c0bbb9fa84f98b4678513817808d7e5fdbc6e24a7",
   "display_name": "Python 3.9.0 64-bit"
  }
 },
 "nbformat": 4,
 "nbformat_minor": 2,
 "cells": [
  {
   "cell_type": "code",
   "execution_count": 1,
   "metadata": {},
   "outputs": [
    {
     "output_type": "stream",
     "name": "stdout",
     "text": [
      "INFO:tensorflow:Enabling eager execution\n",
      "INFO:tensorflow:Enabling v2 tensorshape\n",
      "INFO:tensorflow:Enabling resource variables\n",
      "INFO:tensorflow:Enabling tensor equality\n",
      "INFO:tensorflow:Enabling control flow v2\n"
     ]
    }
   ],
   "source": [
    "import tensorflow\n",
    "import numpy as np\n",
    "import pandas as pd\n",
    "import sklearn\n",
    "import nltk"
   ]
  },
  {
   "cell_type": "code",
   "execution_count": 2,
   "metadata": {},
   "outputs": [
    {
     "output_type": "execute_result",
     "data": {
      "text/plain": [
       "   target          id                          date      flag  \\\n",
       "0       0  1467810369  Mon Apr 06 22:19:45 PDT 2009  NO_QUERY   \n",
       "1       0  1467810672  Mon Apr 06 22:19:49 PDT 2009  NO_QUERY   \n",
       "2       0  1467810917  Mon Apr 06 22:19:53 PDT 2009  NO_QUERY   \n",
       "3       0  1467811184  Mon Apr 06 22:19:57 PDT 2009  NO_QUERY   \n",
       "4       0  1467811193  Mon Apr 06 22:19:57 PDT 2009  NO_QUERY   \n",
       "\n",
       "              user                                               text  \n",
       "0  _TheSpecialOne_  @switchfoot http://twitpic.com/2y1zl - Awww, t...  \n",
       "1    scotthamilton  is upset that he can't update his Facebook by ...  \n",
       "2         mattycus  @Kenichan I dived many times for the ball. Man...  \n",
       "3          ElleCTF    my whole body feels itchy and like its on fire   \n",
       "4           Karoli  @nationwideclass no, it's not behaving at all....  "
      ],
      "text/html": "<div>\n<style scoped>\n    .dataframe tbody tr th:only-of-type {\n        vertical-align: middle;\n    }\n\n    .dataframe tbody tr th {\n        vertical-align: top;\n    }\n\n    .dataframe thead th {\n        text-align: right;\n    }\n</style>\n<table border=\"1\" class=\"dataframe\">\n  <thead>\n    <tr style=\"text-align: right;\">\n      <th></th>\n      <th>target</th>\n      <th>id</th>\n      <th>date</th>\n      <th>flag</th>\n      <th>user</th>\n      <th>text</th>\n    </tr>\n  </thead>\n  <tbody>\n    <tr>\n      <th>0</th>\n      <td>0</td>\n      <td>1467810369</td>\n      <td>Mon Apr 06 22:19:45 PDT 2009</td>\n      <td>NO_QUERY</td>\n      <td>_TheSpecialOne_</td>\n      <td>@switchfoot http://twitpic.com/2y1zl - Awww, t...</td>\n    </tr>\n    <tr>\n      <th>1</th>\n      <td>0</td>\n      <td>1467810672</td>\n      <td>Mon Apr 06 22:19:49 PDT 2009</td>\n      <td>NO_QUERY</td>\n      <td>scotthamilton</td>\n      <td>is upset that he can't update his Facebook by ...</td>\n    </tr>\n    <tr>\n      <th>2</th>\n      <td>0</td>\n      <td>1467810917</td>\n      <td>Mon Apr 06 22:19:53 PDT 2009</td>\n      <td>NO_QUERY</td>\n      <td>mattycus</td>\n      <td>@Kenichan I dived many times for the ball. Man...</td>\n    </tr>\n    <tr>\n      <th>3</th>\n      <td>0</td>\n      <td>1467811184</td>\n      <td>Mon Apr 06 22:19:57 PDT 2009</td>\n      <td>NO_QUERY</td>\n      <td>ElleCTF</td>\n      <td>my whole body feels itchy and like its on fire</td>\n    </tr>\n    <tr>\n      <th>4</th>\n      <td>0</td>\n      <td>1467811193</td>\n      <td>Mon Apr 06 22:19:57 PDT 2009</td>\n      <td>NO_QUERY</td>\n      <td>Karoli</td>\n      <td>@nationwideclass no, it's not behaving at all....</td>\n    </tr>\n  </tbody>\n</table>\n</div>"
     },
     "metadata": {},
     "execution_count": 2
    }
   ],
   "source": [
    "df = pd.read_csv(\"C:/Users/lawre/Downloads/archive (1)/training.1600000.processed.noemoticon.csv\", delimiter=\",\", header=None)\n",
    "df.columns = [\"target\",\"id\",\"date\",\"flag\",\"user\",\"text\"]\n",
    "df.head()"
   ]
  },
  {
   "cell_type": "code",
   "execution_count": 3,
   "metadata": {},
   "outputs": [],
   "source": [
    "df[\"target\"]=(df[\"target\"]/4).astype(int)"
   ]
  },
  {
   "cell_type": "code",
   "execution_count": 4,
   "metadata": {},
   "outputs": [
    {
     "output_type": "execute_result",
     "data": {
      "text/plain": [
       "<bound method Series.unique of 0          NO_QUERY\n",
       "1          NO_QUERY\n",
       "2          NO_QUERY\n",
       "3          NO_QUERY\n",
       "4          NO_QUERY\n",
       "             ...   \n",
       "1599995    NO_QUERY\n",
       "1599996    NO_QUERY\n",
       "1599997    NO_QUERY\n",
       "1599998    NO_QUERY\n",
       "1599999    NO_QUERY\n",
       "Name: flag, Length: 1600000, dtype: object>"
      ]
     },
     "metadata": {},
     "execution_count": 4
    }
   ],
   "source": [
    "df[\"flag\"].unique"
   ]
  },
  {
   "cell_type": "code",
   "execution_count": 5,
   "metadata": {},
   "outputs": [
    {
     "output_type": "execute_result",
     "data": {
      "text/plain": [
       "         target          id                          date             user  \\\n",
       "0             0  1467810369  Mon Apr 06 22:19:45 PDT 2009  _TheSpecialOne_   \n",
       "1             0  1467810672  Mon Apr 06 22:19:49 PDT 2009    scotthamilton   \n",
       "2             0  1467810917  Mon Apr 06 22:19:53 PDT 2009         mattycus   \n",
       "3             0  1467811184  Mon Apr 06 22:19:57 PDT 2009          ElleCTF   \n",
       "4             0  1467811193  Mon Apr 06 22:19:57 PDT 2009           Karoli   \n",
       "...         ...         ...                           ...              ...   \n",
       "1599995       1  2193601966  Tue Jun 16 08:40:49 PDT 2009  AmandaMarie1028   \n",
       "1599996       1  2193601969  Tue Jun 16 08:40:49 PDT 2009      TheWDBoards   \n",
       "1599997       1  2193601991  Tue Jun 16 08:40:49 PDT 2009           bpbabe   \n",
       "1599998       1  2193602064  Tue Jun 16 08:40:49 PDT 2009     tinydiamondz   \n",
       "1599999       1  2193602129  Tue Jun 16 08:40:50 PDT 2009   RyanTrevMorris   \n",
       "\n",
       "                                                      text  \n",
       "0        @switchfoot http://twitpic.com/2y1zl - Awww, t...  \n",
       "1        is upset that he can't update his Facebook by ...  \n",
       "2        @Kenichan I dived many times for the ball. Man...  \n",
       "3          my whole body feels itchy and like its on fire   \n",
       "4        @nationwideclass no, it's not behaving at all....  \n",
       "...                                                    ...  \n",
       "1599995  Just woke up. Having no school is the best fee...  \n",
       "1599996  TheWDB.com - Very cool to hear old Walt interv...  \n",
       "1599997  Are you ready for your MoJo Makeover? Ask me f...  \n",
       "1599998  Happy 38th Birthday to my boo of alll time!!! ...  \n",
       "1599999  happy #charitytuesday @theNSPCC @SparksCharity...  \n",
       "\n",
       "[1600000 rows x 5 columns]"
      ],
      "text/html": "<div>\n<style scoped>\n    .dataframe tbody tr th:only-of-type {\n        vertical-align: middle;\n    }\n\n    .dataframe tbody tr th {\n        vertical-align: top;\n    }\n\n    .dataframe thead th {\n        text-align: right;\n    }\n</style>\n<table border=\"1\" class=\"dataframe\">\n  <thead>\n    <tr style=\"text-align: right;\">\n      <th></th>\n      <th>target</th>\n      <th>id</th>\n      <th>date</th>\n      <th>user</th>\n      <th>text</th>\n    </tr>\n  </thead>\n  <tbody>\n    <tr>\n      <th>0</th>\n      <td>0</td>\n      <td>1467810369</td>\n      <td>Mon Apr 06 22:19:45 PDT 2009</td>\n      <td>_TheSpecialOne_</td>\n      <td>@switchfoot http://twitpic.com/2y1zl - Awww, t...</td>\n    </tr>\n    <tr>\n      <th>1</th>\n      <td>0</td>\n      <td>1467810672</td>\n      <td>Mon Apr 06 22:19:49 PDT 2009</td>\n      <td>scotthamilton</td>\n      <td>is upset that he can't update his Facebook by ...</td>\n    </tr>\n    <tr>\n      <th>2</th>\n      <td>0</td>\n      <td>1467810917</td>\n      <td>Mon Apr 06 22:19:53 PDT 2009</td>\n      <td>mattycus</td>\n      <td>@Kenichan I dived many times for the ball. Man...</td>\n    </tr>\n    <tr>\n      <th>3</th>\n      <td>0</td>\n      <td>1467811184</td>\n      <td>Mon Apr 06 22:19:57 PDT 2009</td>\n      <td>ElleCTF</td>\n      <td>my whole body feels itchy and like its on fire</td>\n    </tr>\n    <tr>\n      <th>4</th>\n      <td>0</td>\n      <td>1467811193</td>\n      <td>Mon Apr 06 22:19:57 PDT 2009</td>\n      <td>Karoli</td>\n      <td>@nationwideclass no, it's not behaving at all....</td>\n    </tr>\n    <tr>\n      <th>...</th>\n      <td>...</td>\n      <td>...</td>\n      <td>...</td>\n      <td>...</td>\n      <td>...</td>\n    </tr>\n    <tr>\n      <th>1599995</th>\n      <td>1</td>\n      <td>2193601966</td>\n      <td>Tue Jun 16 08:40:49 PDT 2009</td>\n      <td>AmandaMarie1028</td>\n      <td>Just woke up. Having no school is the best fee...</td>\n    </tr>\n    <tr>\n      <th>1599996</th>\n      <td>1</td>\n      <td>2193601969</td>\n      <td>Tue Jun 16 08:40:49 PDT 2009</td>\n      <td>TheWDBoards</td>\n      <td>TheWDB.com - Very cool to hear old Walt interv...</td>\n    </tr>\n    <tr>\n      <th>1599997</th>\n      <td>1</td>\n      <td>2193601991</td>\n      <td>Tue Jun 16 08:40:49 PDT 2009</td>\n      <td>bpbabe</td>\n      <td>Are you ready for your MoJo Makeover? Ask me f...</td>\n    </tr>\n    <tr>\n      <th>1599998</th>\n      <td>1</td>\n      <td>2193602064</td>\n      <td>Tue Jun 16 08:40:49 PDT 2009</td>\n      <td>tinydiamondz</td>\n      <td>Happy 38th Birthday to my boo of alll time!!! ...</td>\n    </tr>\n    <tr>\n      <th>1599999</th>\n      <td>1</td>\n      <td>2193602129</td>\n      <td>Tue Jun 16 08:40:50 PDT 2009</td>\n      <td>RyanTrevMorris</td>\n      <td>happy #charitytuesday @theNSPCC @SparksCharity...</td>\n    </tr>\n  </tbody>\n</table>\n<p>1600000 rows × 5 columns</p>\n</div>"
     },
     "metadata": {},
     "execution_count": 5
    }
   ],
   "source": [
    "df.drop(columns=\"flag\")"
   ]
  },
  {
   "cell_type": "code",
   "execution_count": 6,
   "metadata": {},
   "outputs": [],
   "source": [
    "df[\"length\"]=df[\"text\"].str.split().apply(len)"
   ]
  },
  {
   "cell_type": "code",
   "execution_count": 7,
   "metadata": {},
   "outputs": [],
   "source": [
    "from nltk.corpus import stopwords\n",
    "stop = stopwords.words('english')\n",
    "df[\"text\"]=df[\"text\"].str.lower().apply(lambda x: ' '.join([word for word in x.split() if word not in (stop)]))"
   ]
  },
  {
   "cell_type": "code",
   "execution_count": 8,
   "metadata": {},
   "outputs": [],
   "source": [
    "import re\n",
    "df[\"text\"]=df[\"text\"].apply(lambda x: ' '.join(re.sub(\"(@[A-Za-z0-9]+)|([^0-9A-Za-z \\t])|(\\w+:\\/\\/\\S+)\",\" \",x).split()))"
   ]
  },
  {
   "cell_type": "code",
   "execution_count": 9,
   "metadata": {},
   "outputs": [
    {
     "output_type": "stream",
     "name": "stderr",
     "text": [
      "<ipython-input-9-3d9a88b4e2e6>:1: FutureWarning: The default value of regex will change from True to False in a future version.\n  df[\"text\"]=df[\"text\"].str.replace(r'\\b\\w\\b','').str.replace(r'\\s+', ' ')\n"
     ]
    }
   ],
   "source": [
    "df[\"text\"]=df[\"text\"].str.replace(r'\\b\\w\\b','').str.replace(r'\\s+', ' ')"
   ]
  },
  {
   "cell_type": "code",
   "execution_count": 10,
   "metadata": {},
   "outputs": [
    {
     "output_type": "stream",
     "name": "stderr",
     "text": [
      "<ipython-input-10-e01e0f458972>:1: FutureWarning: The default value of regex will change from True to False in a future version.\n  df[\"text\"]=df[\"text\"].str.replace(r'(\\b|\\w+)\\d+(\\b|\\w+)','').str.replace(r'\\s+', ' ')\n"
     ]
    }
   ],
   "source": [
    "df[\"text\"]=df[\"text\"].str.replace(r'(\\b|\\w+)\\d+(\\b|\\w+)','').str.replace(r'\\s+', ' ')"
   ]
  },
  {
   "cell_type": "code",
   "execution_count": 11,
   "metadata": {},
   "outputs": [
    {
     "output_type": "execute_result",
     "data": {
      "text/plain": [
       "         target          id                          date      flag  \\\n",
       "0             0  1467810369  Mon Apr 06 22:19:45 PDT 2009  NO_QUERY   \n",
       "1             0  1467810672  Mon Apr 06 22:19:49 PDT 2009  NO_QUERY   \n",
       "2             0  1467810917  Mon Apr 06 22:19:53 PDT 2009  NO_QUERY   \n",
       "3             0  1467811184  Mon Apr 06 22:19:57 PDT 2009  NO_QUERY   \n",
       "4             0  1467811193  Mon Apr 06 22:19:57 PDT 2009  NO_QUERY   \n",
       "...         ...         ...                           ...       ...   \n",
       "1599995       1  2193601966  Tue Jun 16 08:40:49 PDT 2009  NO_QUERY   \n",
       "1599996       1  2193601969  Tue Jun 16 08:40:49 PDT 2009  NO_QUERY   \n",
       "1599997       1  2193601991  Tue Jun 16 08:40:49 PDT 2009  NO_QUERY   \n",
       "1599998       1  2193602064  Tue Jun 16 08:40:49 PDT 2009  NO_QUERY   \n",
       "1599999       1  2193602129  Tue Jun 16 08:40:50 PDT 2009  NO_QUERY   \n",
       "\n",
       "                    user                                               text  \\\n",
       "0        _TheSpecialOne_  awww that bummer shoulda got david carr third ...   \n",
       "1          scotthamilton  upset can update facebook texting it might cry...   \n",
       "2               mattycus  dived many times ball managed save rest go bounds   \n",
       "3                ElleCTF                   whole body feels itchy like fire   \n",
       "4                 Karoli             no behaving all mad here can see there   \n",
       "...                  ...                                                ...   \n",
       "1599995  AmandaMarie1028                   woke up school best feeling ever   \n",
       "1599996      TheWDBoards           thewdb com cool hear old walt interviews   \n",
       "1599997           bpbabe                    ready mojo makeover ask details   \n",
       "1599998     tinydiamondz    happy birthday boo alll time tupac amaru shakur   \n",
       "1599999   RyanTrevMorris                               happy charitytuesday   \n",
       "\n",
       "         length  \n",
       "0            19  \n",
       "1            21  \n",
       "2            18  \n",
       "3            10  \n",
       "4            21  \n",
       "...         ...  \n",
       "1599995      11  \n",
       "1599996      11  \n",
       "1599997      11  \n",
       "1599998      12  \n",
       "1599999       5  \n",
       "\n",
       "[1600000 rows x 7 columns]"
      ],
      "text/html": "<div>\n<style scoped>\n    .dataframe tbody tr th:only-of-type {\n        vertical-align: middle;\n    }\n\n    .dataframe tbody tr th {\n        vertical-align: top;\n    }\n\n    .dataframe thead th {\n        text-align: right;\n    }\n</style>\n<table border=\"1\" class=\"dataframe\">\n  <thead>\n    <tr style=\"text-align: right;\">\n      <th></th>\n      <th>target</th>\n      <th>id</th>\n      <th>date</th>\n      <th>flag</th>\n      <th>user</th>\n      <th>text</th>\n      <th>length</th>\n    </tr>\n  </thead>\n  <tbody>\n    <tr>\n      <th>0</th>\n      <td>0</td>\n      <td>1467810369</td>\n      <td>Mon Apr 06 22:19:45 PDT 2009</td>\n      <td>NO_QUERY</td>\n      <td>_TheSpecialOne_</td>\n      <td>awww that bummer shoulda got david carr third ...</td>\n      <td>19</td>\n    </tr>\n    <tr>\n      <th>1</th>\n      <td>0</td>\n      <td>1467810672</td>\n      <td>Mon Apr 06 22:19:49 PDT 2009</td>\n      <td>NO_QUERY</td>\n      <td>scotthamilton</td>\n      <td>upset can update facebook texting it might cry...</td>\n      <td>21</td>\n    </tr>\n    <tr>\n      <th>2</th>\n      <td>0</td>\n      <td>1467810917</td>\n      <td>Mon Apr 06 22:19:53 PDT 2009</td>\n      <td>NO_QUERY</td>\n      <td>mattycus</td>\n      <td>dived many times ball managed save rest go bounds</td>\n      <td>18</td>\n    </tr>\n    <tr>\n      <th>3</th>\n      <td>0</td>\n      <td>1467811184</td>\n      <td>Mon Apr 06 22:19:57 PDT 2009</td>\n      <td>NO_QUERY</td>\n      <td>ElleCTF</td>\n      <td>whole body feels itchy like fire</td>\n      <td>10</td>\n    </tr>\n    <tr>\n      <th>4</th>\n      <td>0</td>\n      <td>1467811193</td>\n      <td>Mon Apr 06 22:19:57 PDT 2009</td>\n      <td>NO_QUERY</td>\n      <td>Karoli</td>\n      <td>no behaving all mad here can see there</td>\n      <td>21</td>\n    </tr>\n    <tr>\n      <th>...</th>\n      <td>...</td>\n      <td>...</td>\n      <td>...</td>\n      <td>...</td>\n      <td>...</td>\n      <td>...</td>\n      <td>...</td>\n    </tr>\n    <tr>\n      <th>1599995</th>\n      <td>1</td>\n      <td>2193601966</td>\n      <td>Tue Jun 16 08:40:49 PDT 2009</td>\n      <td>NO_QUERY</td>\n      <td>AmandaMarie1028</td>\n      <td>woke up school best feeling ever</td>\n      <td>11</td>\n    </tr>\n    <tr>\n      <th>1599996</th>\n      <td>1</td>\n      <td>2193601969</td>\n      <td>Tue Jun 16 08:40:49 PDT 2009</td>\n      <td>NO_QUERY</td>\n      <td>TheWDBoards</td>\n      <td>thewdb com cool hear old walt interviews</td>\n      <td>11</td>\n    </tr>\n    <tr>\n      <th>1599997</th>\n      <td>1</td>\n      <td>2193601991</td>\n      <td>Tue Jun 16 08:40:49 PDT 2009</td>\n      <td>NO_QUERY</td>\n      <td>bpbabe</td>\n      <td>ready mojo makeover ask details</td>\n      <td>11</td>\n    </tr>\n    <tr>\n      <th>1599998</th>\n      <td>1</td>\n      <td>2193602064</td>\n      <td>Tue Jun 16 08:40:49 PDT 2009</td>\n      <td>NO_QUERY</td>\n      <td>tinydiamondz</td>\n      <td>happy birthday boo alll time tupac amaru shakur</td>\n      <td>12</td>\n    </tr>\n    <tr>\n      <th>1599999</th>\n      <td>1</td>\n      <td>2193602129</td>\n      <td>Tue Jun 16 08:40:50 PDT 2009</td>\n      <td>NO_QUERY</td>\n      <td>RyanTrevMorris</td>\n      <td>happy charitytuesday</td>\n      <td>5</td>\n    </tr>\n  </tbody>\n</table>\n<p>1600000 rows × 7 columns</p>\n</div>"
     },
     "metadata": {},
     "execution_count": 11
    }
   ],
   "source": [
    "df"
   ]
  },
  {
   "cell_type": "code",
   "execution_count": 12,
   "metadata": {},
   "outputs": [
    {
     "output_type": "execute_result",
     "data": {
      "text/plain": [
       "0    [awww, that, bummer, shoulda, got, david, carr...\n",
       "1    [upset, can, update, facebook, texting, it, mi...\n",
       "2    [dived, many, times, ball, managed, save, rest...\n",
       "3              [whole, body, feels, itchy, like, fire]\n",
       "4      [no, behaving, all, mad, here, can, see, there]\n",
       "5                                        [whole, crew]\n",
       "6                                          [need, hug]\n",
       "7    [hey, long, time, see, yes, rains, bit, only, ...\n",
       "8                                               [nope]\n",
       "9                                         [que, muera]\n",
       "Name: text, dtype: object"
      ]
     },
     "metadata": {},
     "execution_count": 12
    }
   ],
   "source": [
    "from nltk.tokenize import TweetTokenizer\n",
    "tknzr = TweetTokenizer()\n",
    "\n",
    "tokenized_tweet = df['text'].apply(lambda x: tknzr.tokenize(x))\n",
    "\n",
    "tokenized_tweet.head(10)"
   ]
  },
  {
   "cell_type": "code",
   "execution_count": 13,
   "metadata": {},
   "outputs": [
    {
     "output_type": "execute_result",
     "data": {
      "text/plain": [
       "0    [awww, that, bummer, shoulda, got, david, carr...\n",
       "1    [upset, can, updat, facebook, text, it, might,...\n",
       "2    [dive, mani, time, ball, manag, save, rest, go...\n",
       "3               [whole, bodi, feel, itchi, like, fire]\n",
       "4         [no, behav, all, mad, here, can, see, there]\n",
       "Name: text, dtype: object"
      ]
     },
     "metadata": {},
     "execution_count": 13
    }
   ],
   "source": [
    "from nltk import PorterStemmer\n",
    "\n",
    "ps = PorterStemmer()\n",
    "\n",
    "tokenized_tweet = tokenized_tweet.apply(lambda x: [ps.stem(i) for i in x])\n",
    "\n",
    "tokenized_tweet.head()"
   ]
  },
  {
   "cell_type": "code",
   "execution_count": 14,
   "metadata": {},
   "outputs": [],
   "source": [
    "df[\"tokenized\"] = tokenized_tweet"
   ]
  },
  {
   "cell_type": "code",
   "execution_count": 15,
   "metadata": {},
   "outputs": [
    {
     "output_type": "execute_result",
     "data": {
      "text/plain": [
       "0          [awww, that, bummer, shoulda, got, david, carr...\n",
       "1          [upset, can, updat, facebook, text, it, might,...\n",
       "2          [dive, mani, time, ball, manag, save, rest, go...\n",
       "3                     [whole, bodi, feel, itchi, like, fire]\n",
       "4               [no, behav, all, mad, here, can, see, there]\n",
       "                                 ...                        \n",
       "1599995                 [woke, up, school, best, feel, ever]\n",
       "1599996      [thewdb, com, cool, hear, old, walt, interview]\n",
       "1599997                   [readi, mojo, makeov, ask, detail]\n",
       "1599998    [happi, birthday, boo, alll, time, tupac, amar...\n",
       "1599999                              [happi, charitytuesday]\n",
       "Name: tokenized, Length: 1600000, dtype: object"
      ]
     },
     "metadata": {},
     "execution_count": 15
    }
   ],
   "source": [
    "df[\"tokenized\"]"
   ]
  },
  {
   "cell_type": "code",
   "execution_count": 16,
   "metadata": {},
   "outputs": [
    {
     "output_type": "execute_result",
     "data": {
      "text/plain": [
       "   target          id                          date      flag  \\\n",
       "0       0  1467810369  Mon Apr 06 22:19:45 PDT 2009  NO_QUERY   \n",
       "1       0  1467810672  Mon Apr 06 22:19:49 PDT 2009  NO_QUERY   \n",
       "2       0  1467810917  Mon Apr 06 22:19:53 PDT 2009  NO_QUERY   \n",
       "3       0  1467811184  Mon Apr 06 22:19:57 PDT 2009  NO_QUERY   \n",
       "4       0  1467811193  Mon Apr 06 22:19:57 PDT 2009  NO_QUERY   \n",
       "\n",
       "              user                                               text  length  \\\n",
       "0  _TheSpecialOne_  awww that bummer shoulda got david carr third ...      19   \n",
       "1    scotthamilton  upset can update facebook texting it might cry...      21   \n",
       "2         mattycus  dived many times ball managed save rest go bounds      18   \n",
       "3          ElleCTF                   whole body feels itchy like fire      10   \n",
       "4           Karoli             no behaving all mad here can see there      21   \n",
       "\n",
       "                                           tokenized  \\\n",
       "0  [awww, that, bummer, shoulda, got, david, carr...   \n",
       "1  [upset, can, updat, facebook, text, it, might,...   \n",
       "2  [dive, mani, time, ball, manag, save, rest, go...   \n",
       "3             [whole, bodi, feel, itchi, like, fire]   \n",
       "4       [no, behav, all, mad, here, can, see, there]   \n",
       "\n",
       "                                        text_cleaned  \n",
       "0  awww that bummer shoulda got david carr third ...  \n",
       "1  upset can updat facebook text it might cri res...  \n",
       "2       dive mani time ball manag save rest go bound  \n",
       "3                    whole bodi feel itchi like fire  \n",
       "4                no behav all mad here can see there  "
      ],
      "text/html": "<div>\n<style scoped>\n    .dataframe tbody tr th:only-of-type {\n        vertical-align: middle;\n    }\n\n    .dataframe tbody tr th {\n        vertical-align: top;\n    }\n\n    .dataframe thead th {\n        text-align: right;\n    }\n</style>\n<table border=\"1\" class=\"dataframe\">\n  <thead>\n    <tr style=\"text-align: right;\">\n      <th></th>\n      <th>target</th>\n      <th>id</th>\n      <th>date</th>\n      <th>flag</th>\n      <th>user</th>\n      <th>text</th>\n      <th>length</th>\n      <th>tokenized</th>\n      <th>text_cleaned</th>\n    </tr>\n  </thead>\n  <tbody>\n    <tr>\n      <th>0</th>\n      <td>0</td>\n      <td>1467810369</td>\n      <td>Mon Apr 06 22:19:45 PDT 2009</td>\n      <td>NO_QUERY</td>\n      <td>_TheSpecialOne_</td>\n      <td>awww that bummer shoulda got david carr third ...</td>\n      <td>19</td>\n      <td>[awww, that, bummer, shoulda, got, david, carr...</td>\n      <td>awww that bummer shoulda got david carr third ...</td>\n    </tr>\n    <tr>\n      <th>1</th>\n      <td>0</td>\n      <td>1467810672</td>\n      <td>Mon Apr 06 22:19:49 PDT 2009</td>\n      <td>NO_QUERY</td>\n      <td>scotthamilton</td>\n      <td>upset can update facebook texting it might cry...</td>\n      <td>21</td>\n      <td>[upset, can, updat, facebook, text, it, might,...</td>\n      <td>upset can updat facebook text it might cri res...</td>\n    </tr>\n    <tr>\n      <th>2</th>\n      <td>0</td>\n      <td>1467810917</td>\n      <td>Mon Apr 06 22:19:53 PDT 2009</td>\n      <td>NO_QUERY</td>\n      <td>mattycus</td>\n      <td>dived many times ball managed save rest go bounds</td>\n      <td>18</td>\n      <td>[dive, mani, time, ball, manag, save, rest, go...</td>\n      <td>dive mani time ball manag save rest go bound</td>\n    </tr>\n    <tr>\n      <th>3</th>\n      <td>0</td>\n      <td>1467811184</td>\n      <td>Mon Apr 06 22:19:57 PDT 2009</td>\n      <td>NO_QUERY</td>\n      <td>ElleCTF</td>\n      <td>whole body feels itchy like fire</td>\n      <td>10</td>\n      <td>[whole, bodi, feel, itchi, like, fire]</td>\n      <td>whole bodi feel itchi like fire</td>\n    </tr>\n    <tr>\n      <th>4</th>\n      <td>0</td>\n      <td>1467811193</td>\n      <td>Mon Apr 06 22:19:57 PDT 2009</td>\n      <td>NO_QUERY</td>\n      <td>Karoli</td>\n      <td>no behaving all mad here can see there</td>\n      <td>21</td>\n      <td>[no, behav, all, mad, here, can, see, there]</td>\n      <td>no behav all mad here can see there</td>\n    </tr>\n  </tbody>\n</table>\n</div>"
     },
     "metadata": {},
     "execution_count": 16
    }
   ],
   "source": [
    "for i in range(len(tokenized_tweet)):\n",
    "    tokenized_tweet[i] = ' '.join(tokenized_tweet[i])\n",
    "\n",
    "df['text_cleaned'] = tokenized_tweet\n",
    "df.head()"
   ]
  },
  {
   "cell_type": "code",
   "execution_count": 17,
   "metadata": {},
   "outputs": [
    {
     "output_type": "execute_result",
     "data": {
      "text/plain": [
       "0          awww that bummer shoulda got david carr third ...\n",
       "1          upset can updat facebook text it might cri res...\n",
       "2               dive mani time ball manag save rest go bound\n",
       "3                            whole bodi feel itchi like fire\n",
       "4                        no behav all mad here can see there\n",
       "                                 ...                        \n",
       "1599995                        woke up school best feel ever\n",
       "1599996              thewdb com cool hear old walt interview\n",
       "1599997                         readi mojo makeov ask detail\n",
       "1599998      happi birthday boo alll time tupac amaru shakur\n",
       "1599999                                 happi charitytuesday\n",
       "Name: text_cleaned, Length: 1600000, dtype: object"
      ]
     },
     "metadata": {},
     "execution_count": 17
    }
   ],
   "source": [
    "df['text_cleaned']"
   ]
  },
  {
   "cell_type": "code",
   "execution_count": 18,
   "metadata": {},
   "outputs": [],
   "source": [
    "train=df.sample(frac=0.9,random_state=42) #random state is a seed value\n",
    "test=df.drop(train.index)"
   ]
  },
  {
   "cell_type": "code",
   "execution_count": 19,
   "metadata": {},
   "outputs": [],
   "source": [
    "train.to_csv(\"C:/Users/lawre/Downloads/archive (1)/train.csv\",sep=',',index=False)\n",
    "test.to_csv(\"C:/Users/lawre/Downloads/archive (1)/test.csv\",sep=',',index=False)"
   ]
  },
  {
   "cell_type": "code",
   "execution_count": 20,
   "metadata": {},
   "outputs": [],
   "source": [
    "train = pd.read_csv(\"C:/Users/lawre/Downloads/archive (1)/train.csv\", delimiter=\",\", header=1)\n",
    "train.columns = [\"target\",\"id\",\"date\",\"flag\",\"user\",\"text\",\"length\",\"tokenized\", \"text_cleaned\"]\n",
    "test = pd.read_csv(\"C:/Users/lawre/Downloads/archive (1)/test.csv\", delimiter=\",\", header=1)\n",
    "test.columns = [\"target\",\"id\",\"date\",\"flag\",\"user\",\"text\",\"length\",\"tokenized\", \"text_cleaned\"]"
   ]
  },
  {
   "cell_type": "code",
   "execution_count": 21,
   "metadata": {},
   "outputs": [],
   "source": [
    "combined = [test,train]\n",
    "combined=pd.concat(combined)\n",
    "train=combined.sample(frac=0.9,random_state=1234) #random state is a seed value\n",
    "test=combined.drop(train.index)"
   ]
  },
  {
   "cell_type": "code",
   "execution_count": 22,
   "metadata": {},
   "outputs": [
    {
     "output_type": "stream",
     "name": "stderr",
     "text": [
      "C:\\Users\\lawre\\AppData\\Local\\Programs\\Python\\Python39\\lib\\site-packages\\pandas\\core\\series.py:4509: SettingWithCopyWarning: \nA value is trying to be set on a copy of a slice from a DataFrame\n\nSee the caveats in the documentation: https://pandas.pydata.org/pandas-docs/stable/user_guide/indexing.html#returning-a-view-versus-a-copy\n  return super().replace(\n<ipython-input-22-4d914c5a56f0>:4: SettingWithCopyWarning: \nA value is trying to be set on a copy of a slice from a DataFrame\n\nSee the caveats in the documentation: https://pandas.pydata.org/pandas-docs/stable/user_guide/indexing.html#returning-a-view-versus-a-copy\n  test.dropna(subset=['text_cleaned'],inplace=True)\n"
     ]
    }
   ],
   "source": [
    "train[\"text_cleaned\"].replace('',np.nan,inplace=True)\n",
    "train.dropna(subset=['text_cleaned'],inplace=True)\n",
    "test[\"text_cleaned\"].replace('',np.nan,inplace=True)\n",
    "test.dropna(subset=['text_cleaned'],inplace=True)\n",
    "pureTrain=train[[\"target\",\"text_cleaned\"]]\n",
    "pureTest=test[[\"target\",\"text_cleaned\"]]"
   ]
  },
  {
   "cell_type": "code",
   "execution_count": 23,
   "metadata": {},
   "outputs": [],
   "source": [
    "knownWords= dict()\n",
    "for index,row in pureTrain.iterrows():\n",
    "    split = row[\"text_cleaned\"].split(\" \")\n",
    "    for word in split:\n",
    "        if word in knownWords:\n",
    "            knownWords[word][row[\"target\"]]+=1\n",
    "        else:\n",
    "            if row[\"target\"]==1:\n",
    "                knownWords[word]=[0,1]\n",
    "            else:\n",
    "                knownWords[word]=[1,0]"
   ]
  },
  {
   "cell_type": "code",
   "execution_count": 24,
   "metadata": {},
   "outputs": [],
   "source": [
    "for word in knownWords:\n",
    "    knownWords[word][0]=knownWords[word][0]/(knownWords[word][0]+knownWords[word][1])\n",
    "    knownWords[word][1]=1-knownWords[word][0]"
   ]
  },
  {
   "cell_type": "code",
   "execution_count": 25,
   "metadata": {},
   "outputs": [],
   "source": [
    "def predict (row):\n",
    "    sum0 = 0\n",
    "    numWords = 0\n",
    "    split = row[\"text_cleaned\"].split(\" \")\n",
    "    for word in split:\n",
    "        if word in knownWords:\n",
    "            sum0+=knownWords[word][0]\n",
    "            numWords+=1\n",
    "    #assume negative if no match (default value is positive)\n",
    "    if numWords==0:\n",
    "        return 1\n",
    "    #if there is matching words and probability = .5 we assume negative\n",
    "    else:\n",
    "        if sum0/numWords >= .5:\n",
    "            return 0\n",
    "        else:\n",
    "            return 1"
   ]
  },
  {
   "cell_type": "code",
   "execution_count": 26,
   "metadata": {},
   "outputs": [
    {
     "output_type": "stream",
     "name": "stderr",
     "text": [
      "<ipython-input-26-b7c46005f4ae>:1: SettingWithCopyWarning: \nA value is trying to be set on a copy of a slice from a DataFrame.\nTry using .loc[row_indexer,col_indexer] = value instead\n\nSee the caveats in the documentation: https://pandas.pydata.org/pandas-docs/stable/user_guide/indexing.html#returning-a-view-versus-a-copy\n  pureTest[\"predictions\"] = pureTest.apply (lambda row: predict(row), axis=1)\n"
     ]
    }
   ],
   "source": [
    "pureTest[\"predictions\"] = pureTest.apply (lambda row: predict(row), axis=1)"
   ]
  },
  {
   "cell_type": "code",
   "execution_count": 27,
   "metadata": {},
   "outputs": [
    {
     "output_type": "stream",
     "name": "stdout",
     "text": [
      "Percision = 0.7593054951096044\nRecall = 0.7593054951096044\nfMeasure = 0.7593054951096044\n\n"
     ]
    },
    {
     "output_type": "execute_result",
     "data": {
      "text/plain": [
       "(0.7593054951096044, 0.7593054951096044, 0.7593054951096044, None)"
      ]
     },
     "metadata": {},
     "execution_count": 27
    }
   ],
   "source": [
    "from sklearn.metrics import precision_recall_fscore_support\n",
    "x = precision_recall_fscore_support(pureTest[\"target\"].to_numpy(), pureTest[\"predictions\"].to_numpy(), average='micro')\n",
    "print(\"Percision = \" + str(x[0])+'\\n'+\"Recall = \" + str(x[1])+'\\n'+\"fMeasure = \" + str(x[2])+'\\n')\n",
    "x"
   ]
  }
 ]
}